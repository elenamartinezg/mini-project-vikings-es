{
 "cells": [
  {
   "cell_type": "code",
   "execution_count": 6,
   "metadata": {},
   "outputs": [],
   "source": [
    "from vikingsClasses import *"
   ]
  },
  {
   "cell_type": "code",
   "execution_count": 7,
   "metadata": {},
   "outputs": [],
   "source": [
    "# We instantiate the War class\n",
    "war = War()"
   ]
  },
  {
   "cell_type": "code",
   "execution_count": 8,
   "metadata": {},
   "outputs": [],
   "source": [
    "# Add Vikings to Viking Army\n",
    "viking_1 = Viking(name=\"Mar\", health=20, strength=50)\n",
    "viking_2 = Viking(name=\"Tayna\", health=30, strength=45)\n",
    "viking_3 = Viking(name=\"Gabriel\", health=50, strength=30)\n",
    "viking_4 = Viking(name=\"Elena\", health=40, strength=20)\n",
    "\n",
    "war.addViking(viking_1)\n",
    "war.addViking(viking_2)\n",
    "war.addViking(viking_3)\n",
    "war.addViking(viking_4)\n",
    "\n",
    "# Add Saxons to Saxon Army\n",
    "saxon_1 = Saxon(health=10, strength=60)\n",
    "saxon_2 = Saxon(health=5, strength=10)\n",
    "saxon_3 = Saxon(health=3, strength=8)\n",
    "saxon_4 = Saxon(health=10, strength=3)\n",
    "\n",
    "war.addSaxon(saxon_1)\n",
    "war.addSaxon(saxon_2)\n",
    "war.addSaxon(saxon_3)\n",
    "war.addSaxon(saxon_4)"
   ]
  },
  {
   "cell_type": "code",
   "execution_count": 9,
   "metadata": {},
   "outputs": [
    {
     "data": {
      "text/plain": [
       "'Vikings and Saxons are still in the thick of battle.'"
      ]
     },
     "execution_count": 9,
     "metadata": {},
     "output_type": "execute_result"
    }
   ],
   "source": [
    "war.showStatus()"
   ]
  },
  {
   "cell_type": "code",
   "execution_count": 10,
   "metadata": {},
   "outputs": [
    {
     "name": "stdout",
     "output_type": "stream",
     "text": [
      "Tayna has received 8 points of damage\n",
      "VIKING | I am deleting random_saxon, Health:-35, Strength: 3\n",
      "A Saxon has died in combat\n",
      "\n",
      "Vikings and Saxons are still in the thick of battle.\n",
      "Mar has received 10 points of damage\n",
      "VIKING | I am deleting random_saxon, Health:-40, Strength: 10\n",
      "A Saxon has died in combat\n",
      "\n",
      "Vikings and Saxons are still in the thick of battle.\n",
      "SAXON | I am deleting viking Mar, Health:-50, Strength: 50\n",
      "Mar has died in act of combat\n",
      "VIKING | I am deleting random_saxon, Health:-20, Strength: 60\n",
      "A Saxon has died in combat\n",
      "\n",
      "Vikings and Saxons are still in the thick of battle.\n",
      "Elena has received 8 points of damage\n",
      "VIKING | I am deleting random_saxon, Health:-17, Strength: 8\n",
      "A Saxon has died in combat\n",
      "\n",
      "Vikings have won the war of the century!\n"
     ]
    }
   ],
   "source": [
    "while (len(war.saxonArmy) > 0) and (len(war.vikingArmy) > 0):\n",
    "    \n",
    "    result_attack_saxon = war.saxonAttack()\n",
    "    print(result_attack_saxon)\n",
    "\n",
    "    war.showStatus()\n",
    "\n",
    "    result_attack_viking = war.vikingAttack()\n",
    "    print(result_attack_viking)\n",
    "    \n",
    "    war_status = war.showStatus()\n",
    "    print(f\"\\n{war_status}\")"
   ]
  }
 ],
 "metadata": {
  "kernelspec": {
   "display_name": "venv-mida",
   "language": "python",
   "name": "python3"
  },
  "language_info": {
   "codemirror_mode": {
    "name": "ipython",
    "version": 3
   },
   "file_extension": ".py",
   "mimetype": "text/x-python",
   "name": "python",
   "nbconvert_exporter": "python",
   "pygments_lexer": "ipython3",
   "version": "3.12.2"
  }
 },
 "nbformat": 4,
 "nbformat_minor": 2
}
